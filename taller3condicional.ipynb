{
  "nbformat": 4,
  "nbformat_minor": 0,
  "metadata": {
    "colab": {
      "provenance": [],
      "authorship_tag": "ABX9TyPIK8qg8nGYghv6qqKMuHzh",
      "include_colab_link": true
    },
    "kernelspec": {
      "name": "python3",
      "display_name": "Python 3"
    },
    "language_info": {
      "name": "python"
    }
  },
  "cells": [
    {
      "cell_type": "markdown",
      "metadata": {
        "id": "view-in-github",
        "colab_type": "text"
      },
      "source": [
        "<a href=\"https://colab.research.google.com/github/juanbarriowe08/FunProgIngmecanica_000522880_taller3/blob/main/taller3condicional.ipynb\" target=\"_parent\"><img src=\"https://colab.research.google.com/assets/colab-badge.svg\" alt=\"Open In Colab\"/></a>"
      ]
    },
    {
      "cell_type": "markdown",
      "source": [
        "#taller 3 condicional.\n",
        "\n",
        "##juan pablo barrios villalba\n",
        "##     000522880\n",
        "\n",
        "##juan.barriosv@upb.edu.co"
      ],
      "metadata": {
        "id": "pE96WjUsFMkM"
      }
    },
    {
      "cell_type": "code",
      "execution_count": null,
      "metadata": {
        "id": "q_22LxE5E2GX"
      },
      "outputs": [],
      "source": [
        "# Definir variables de entrada\n",
        "\n",
        "est = int(input(\"Ingrese su estrato socioeconómico: \"))\n",
        "\n",
        "lugar_residencia = input(\"¿Vive en Montería? (SI/NO): \")\n",
        "\n",
        "edad = int(input(\"Ingrese su edad: \"))\n",
        "\n",
        "promedio = float(input(\"Ingrese su promedio académico ponderado proyectado: \"))\n",
        "\n",
        "apoyo_transporte = 0\n",
        "\n",
        "apoyo_alimentacion = 0\n",
        "\n",
        "##componentes del costo de vida.\n",
        "\n",
        "# Calcular apoyo de transporte\n",
        "if est == 1:\n",
        "    if edad < 18:\n",
        "        apo_trans= 65000 \n",
        "    else:\n",
        "        apo_trans = 50000\n",
        "elif est == 2:\n",
        "    if edad < 18:\n",
        "        apo_trans = 45000\n",
        "    else:\n",
        "        apoyo_transporte = 30000\n",
        "elif est == 3:\n",
        "    if edad < 18:\n",
        "        apo_trans = 35000\n",
        "    else:\n",
        "        \n",
        "        apo_trans = 20000\n",
        "\n",
        "# Calcular apoyo de alimentación\n",
        "costo_alimentacion = 20000 * 20 # 20 días hábiles por mes\n",
        "if est == 1:\n",
        "    if edad < 18:\n",
        "        apo_alimen = costo_alimentacion * 0.9\n",
        "    else:\n",
        "        apo_alimen = costo_alimentacion * 0.7\n",
        "elif est == 2:\n",
        "    if edad < 18:\n",
        "        apo_alimen = costo_alimentacion * 0.7\n",
        "    else:\n",
        "        apo_alimen = costo_alimentacion * 0.5\n",
        "elif est == 3:\n",
        "    if edad < 18:\n",
        "        apo_alimen = costo_alimentacion * 0.5\n",
        "    else:\n",
        "        apo_alimen = costo_alimentacion * 0.3\n",
        "\n",
        "# Calcular costo de transporte\n",
        "if lugar_residencia.upper() == \"S\":\n",
        "    costo_transporte = 2800 * 2 * 20 # 20 días hábiles por mes\n",
        "else:\n",
        "    costo_transporte = 3500 * 2 * 20 # 20 días hábiles por mes\n",
        "\n",
        "# Calcular costo de matrícula\n",
        "if promedio > 4.8:\n",
        "    costo_matricula = 0\n",
        "elif promedio > 4.5:\n",
        "    costo_matricula = 5000000 * 0.3\n",
        "elif promedio > 4.0:\n",
        "    costo_matricula = 5000000 * 0.6\n",
        "else:\n",
        "    costo_matricula = 5000000\n",
        "\n",
        "\n",
        "\n",
        "# Calcular gasto total mensual\n",
        "gasto_total = costo_transporte + apo_trans + costo_alimentacion - apo_alimen + costo_matricula\n",
        "gasto_mensual = gasto_total / 4\n",
        "\n",
        "# Mostrar resultado\n",
        "print(f\"El gasto total mensual es de ${gasto_mensual:.2f}\")"
      ]
    },
    {
      "cell_type": "code",
      "source": [],
      "metadata": {
        "id": "lU3e9QVmE-Bq"
      },
      "execution_count": null,
      "outputs": []
    }
  ]
}